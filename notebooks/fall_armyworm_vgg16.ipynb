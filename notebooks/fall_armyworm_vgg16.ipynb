{
 "cells": [
  {
   "cell_type": "markdown",
   "id": "f230cb09",
   "metadata": {},
   "source": [
    "## Import libraries"
   ]
  },
  {
   "cell_type": "code",
   "execution_count": 1,
   "id": "9667f756",
   "metadata": {},
   "outputs": [],
   "source": [
    "from tensorflow.keras.applications import vgg16\n",
    "from tensorflow.keras.preprocessing.image import ImageDataGenerator\n",
    "from matplotlib import pyplot\n",
    "from tensorflow.keras.models import Model\n",
    "from tensorflow.keras.layers import Dense, Flatten, BatchNormalization, Dropout, Input, GlobalMaxPooling2D\n",
    "from tensorflow.keras.optimizers import Adam, SGD\n",
    "from tensorflow import keras"
   ]
  },
  {
   "cell_type": "markdown",
   "id": "de61446d",
   "metadata": {},
   "source": [
    "## Load data"
   ]
  },
  {
   "cell_type": "code",
   "execution_count": 2,
   "id": "8e03e630",
   "metadata": {},
   "outputs": [
    {
     "name": "stdout",
     "output_type": "stream",
     "text": [
      "Found 1600 images belonging to 2 classes.\n",
      "Found 698 images belonging to 2 classes.\n",
      "Found 200 images belonging to 2 classes.\n"
     ]
    }
   ],
   "source": [
    "datagen = ImageDataGenerator(rescale=1.0/255.0)\n",
    "\n",
    "trainit = datagen.flow_from_directory(\"../data/data1/train\", \n",
    "                                      target_size=(224, 224), \n",
    "                                      class_mode = \"binary\", \n",
    "                                      batch_size=32)\n",
    "\n",
    "testit = datagen.flow_from_directory(\"../data/data1/test\",\n",
    "                                      shuffle=False,\n",
    "                                      target_size=(224, 224), \n",
    "                                      class_mode = \"binary\", \n",
    "                                      batch_size=32)\n",
    "\n",
    "valit = datagen.flow_from_directory(\"../data/data1/validation\", \n",
    "                                      shuffle=False,\n",
    "                                      target_size=(224, 224), \n",
    "                                      class_mode = \"binary\", \n",
    "                                      batch_size=32)"
   ]
  },
  {
   "cell_type": "markdown",
   "id": "df0625c3",
   "metadata": {},
   "source": [
    "## Load pre-trained model"
   ]
  },
  {
   "cell_type": "code",
   "execution_count": 3,
   "id": "44225115",
   "metadata": {},
   "outputs": [
    {
     "name": "stdout",
     "output_type": "stream",
     "text": [
      "Model: \"vgg16\"\n",
      "_________________________________________________________________\n",
      "Layer (type)                 Output Shape              Param #   \n",
      "=================================================================\n",
      "input_1 (InputLayer)         [(None, 224, 224, 3)]     0         \n",
      "_________________________________________________________________\n",
      "block1_conv1 (Conv2D)        (None, 224, 224, 64)      1792      \n",
      "_________________________________________________________________\n",
      "block1_conv2 (Conv2D)        (None, 224, 224, 64)      36928     \n",
      "_________________________________________________________________\n",
      "block1_pool (MaxPooling2D)   (None, 112, 112, 64)      0         \n",
      "_________________________________________________________________\n",
      "block2_conv1 (Conv2D)        (None, 112, 112, 128)     73856     \n",
      "_________________________________________________________________\n",
      "block2_conv2 (Conv2D)        (None, 112, 112, 128)     147584    \n",
      "_________________________________________________________________\n",
      "block2_pool (MaxPooling2D)   (None, 56, 56, 128)       0         \n",
      "_________________________________________________________________\n",
      "block3_conv1 (Conv2D)        (None, 56, 56, 256)       295168    \n",
      "_________________________________________________________________\n",
      "block3_conv2 (Conv2D)        (None, 56, 56, 256)       590080    \n",
      "_________________________________________________________________\n",
      "block3_conv3 (Conv2D)        (None, 56, 56, 256)       590080    \n",
      "_________________________________________________________________\n",
      "block3_pool (MaxPooling2D)   (None, 28, 28, 256)       0         \n",
      "_________________________________________________________________\n",
      "block4_conv1 (Conv2D)        (None, 28, 28, 512)       1180160   \n",
      "_________________________________________________________________\n",
      "block4_conv2 (Conv2D)        (None, 28, 28, 512)       2359808   \n",
      "_________________________________________________________________\n",
      "block4_conv3 (Conv2D)        (None, 28, 28, 512)       2359808   \n",
      "_________________________________________________________________\n",
      "block4_pool (MaxPooling2D)   (None, 14, 14, 512)       0         \n",
      "_________________________________________________________________\n",
      "block5_conv1 (Conv2D)        (None, 14, 14, 512)       2359808   \n",
      "_________________________________________________________________\n",
      "block5_conv2 (Conv2D)        (None, 14, 14, 512)       2359808   \n",
      "_________________________________________________________________\n",
      "block5_conv3 (Conv2D)        (None, 14, 14, 512)       2359808   \n",
      "_________________________________________________________________\n",
      "block5_pool (MaxPooling2D)   (None, 7, 7, 512)         0         \n",
      "=================================================================\n",
      "Total params: 14,714,688\n",
      "Trainable params: 14,714,688\n",
      "Non-trainable params: 0\n",
      "_________________________________________________________________\n"
     ]
    }
   ],
   "source": [
    "model = vgg16.VGG16(weights=\"imagenet\", include_top=False, input_tensor=Input(shape=(224, 224, 3)))\n",
    "model.summary()"
   ]
  },
  {
   "cell_type": "markdown",
   "id": "ba015080",
   "metadata": {},
   "source": [
    "## Build model"
   ]
  },
  {
   "cell_type": "code",
   "execution_count": 4,
   "id": "335a2904",
   "metadata": {},
   "outputs": [
    {
     "name": "stdout",
     "output_type": "stream",
     "text": [
      "Model: \"model\"\n",
      "_________________________________________________________________\n",
      "Layer (type)                 Output Shape              Param #   \n",
      "=================================================================\n",
      "input_1 (InputLayer)         [(None, 224, 224, 3)]     0         \n",
      "_________________________________________________________________\n",
      "block1_conv1 (Conv2D)        (None, 224, 224, 64)      1792      \n",
      "_________________________________________________________________\n",
      "block1_conv2 (Conv2D)        (None, 224, 224, 64)      36928     \n",
      "_________________________________________________________________\n",
      "block1_pool (MaxPooling2D)   (None, 112, 112, 64)      0         \n",
      "_________________________________________________________________\n",
      "block2_conv1 (Conv2D)        (None, 112, 112, 128)     73856     \n",
      "_________________________________________________________________\n",
      "block2_conv2 (Conv2D)        (None, 112, 112, 128)     147584    \n",
      "_________________________________________________________________\n",
      "block2_pool (MaxPooling2D)   (None, 56, 56, 128)       0         \n",
      "_________________________________________________________________\n",
      "block3_conv1 (Conv2D)        (None, 56, 56, 256)       295168    \n",
      "_________________________________________________________________\n",
      "block3_conv2 (Conv2D)        (None, 56, 56, 256)       590080    \n",
      "_________________________________________________________________\n",
      "block3_conv3 (Conv2D)        (None, 56, 56, 256)       590080    \n",
      "_________________________________________________________________\n",
      "block3_pool (MaxPooling2D)   (None, 28, 28, 256)       0         \n",
      "_________________________________________________________________\n",
      "block4_conv1 (Conv2D)        (None, 28, 28, 512)       1180160   \n",
      "_________________________________________________________________\n",
      "block4_conv2 (Conv2D)        (None, 28, 28, 512)       2359808   \n",
      "_________________________________________________________________\n",
      "block4_conv3 (Conv2D)        (None, 28, 28, 512)       2359808   \n",
      "_________________________________________________________________\n",
      "block4_pool (MaxPooling2D)   (None, 14, 14, 512)       0         \n",
      "_________________________________________________________________\n",
      "block5_conv1 (Conv2D)        (None, 14, 14, 512)       2359808   \n",
      "_________________________________________________________________\n",
      "block5_conv2 (Conv2D)        (None, 14, 14, 512)       2359808   \n",
      "_________________________________________________________________\n",
      "block5_conv3 (Conv2D)        (None, 14, 14, 512)       2359808   \n",
      "_________________________________________________________________\n",
      "block5_pool (MaxPooling2D)   (None, 7, 7, 512)         0         \n",
      "_________________________________________________________________\n",
      "global_max_pooling2d (Global (None, 512)               0         \n",
      "_________________________________________________________________\n",
      "dense (Dense)                (None, 64)                32832     \n",
      "_________________________________________________________________\n",
      "dropout (Dropout)            (None, 64)                0         \n",
      "_________________________________________________________________\n",
      "batch_normalization (BatchNo (None, 64)                256       \n",
      "_________________________________________________________________\n",
      "dense_1 (Dense)              (None, 1)                 65        \n",
      "=================================================================\n",
      "Total params: 14,747,841\n",
      "Trainable params: 14,747,713\n",
      "Non-trainable params: 128\n",
      "_________________________________________________________________\n"
     ]
    }
   ],
   "source": [
    "flattened = GlobalMaxPooling2D()(model.layers[-1].output)\n",
    "hidden = Dense(64, activation=\"relu\")(flattened)\n",
    "dropout = Dropout(0.5)(hidden)\n",
    "normalized = BatchNormalization()(dropout)\n",
    "output = Dense(1, activation=\"sigmoid\")(normalized)\n",
    "model = Model(inputs=model.inputs, outputs=output)\n",
    "model.summary()"
   ]
  },
  {
   "cell_type": "markdown",
   "id": "1ada75e2",
   "metadata": {},
   "source": [
    "## Compile Model"
   ]
  },
  {
   "cell_type": "code",
   "execution_count": 5,
   "id": "da96df14",
   "metadata": {},
   "outputs": [],
   "source": [
    "opt = Adam(1e-4)\n",
    "model.compile(optimizer=opt, loss=\"binary_crossentropy\", metrics=[\"accuracy\"])"
   ]
  },
  {
   "cell_type": "markdown",
   "id": "a54255a1",
   "metadata": {},
   "source": [
    "## Train model"
   ]
  },
  {
   "cell_type": "code",
   "execution_count": 6,
   "id": "13d78815",
   "metadata": {},
   "outputs": [
    {
     "name": "stdout",
     "output_type": "stream",
     "text": [
      "Epoch 1/10\n",
      "50/50 [==============================] - 62s 1s/step - loss: 0.5084 - accuracy: 0.7499 - val_loss: 0.0684 - val_accuracy: 0.9850\n",
      "Epoch 2/10\n",
      "50/50 [==============================] - 51s 1s/step - loss: 0.1313 - accuracy: 0.9761 - val_loss: 0.0756 - val_accuracy: 0.9600\n",
      "Epoch 3/10\n",
      "50/50 [==============================] - 51s 1s/step - loss: 0.0824 - accuracy: 0.9894 - val_loss: 0.1262 - val_accuracy: 0.9400\n",
      "Epoch 4/10\n",
      "50/50 [==============================] - 50s 997ms/step - loss: 0.0755 - accuracy: 0.9886 - val_loss: 0.0267 - val_accuracy: 1.0000\n",
      "Epoch 5/10\n",
      "50/50 [==============================] - 50s 986ms/step - loss: 0.0505 - accuracy: 0.9959 - val_loss: 0.0525 - val_accuracy: 0.9950\n",
      "Epoch 6/10\n",
      "50/50 [==============================] - 50s 979ms/step - loss: 0.0442 - accuracy: 0.9966 - val_loss: 0.0311 - val_accuracy: 0.9900\n",
      "Epoch 7/10\n",
      "50/50 [==============================] - 50s 979ms/step - loss: 0.0422 - accuracy: 0.9991 - val_loss: 0.0267 - val_accuracy: 0.9900\n",
      "Epoch 8/10\n",
      "50/50 [==============================] - 50s 985ms/step - loss: 0.0687 - accuracy: 0.9831 - val_loss: 0.0554 - val_accuracy: 0.9800\n",
      "Epoch 9/10\n",
      "50/50 [==============================] - 50s 986ms/step - loss: 0.0397 - accuracy: 0.9985 - val_loss: 0.0421 - val_accuracy: 0.9850\n",
      "Epoch 10/10\n",
      "50/50 [==============================] - 49s 975ms/step - loss: 0.0419 - accuracy: 0.9948 - val_loss: 0.0713 - val_accuracy: 0.9750\n"
     ]
    }
   ],
   "source": [
    "history = model.fit(trainit, validation_data=(valit), epochs=10)"
   ]
  },
  {
   "cell_type": "markdown",
   "id": "fade95ea",
   "metadata": {},
   "source": [
    "## Learning curves visualization"
   ]
  },
  {
   "cell_type": "code",
   "execution_count": 7,
   "id": "23836935",
   "metadata": {},
   "outputs": [
    {
     "data": {
      "image/png": "[encoded data removed]",
      "text/plain": [
       "<Figure size 432x288 with 1 Axes>"
      ]
     },
     "metadata": {
      "needs_background": "light"
     },
     "output_type": "display_data"
    }
   ],
   "source": [
    "# accuracy curve\n",
    "pyplot.plot(history.history[\"accuracy\"])\n",
    "pyplot.plot(history.history[\"val_accuracy\"])\n",
    "pyplot.title(\"model accuracy learning curves\")\n",
    "pyplot.ylabel(\"accuracy\")\n",
    "pyplot.xlabel(\"epoch\")\n",
    "pyplot.legend(['train', 'validation'], loc=\"upper left\")\n",
    "pyplot.show()"
   ]
  },
  {
   "cell_type": "code",
   "execution_count": 8,
   "id": "1d0e66ed",
   "metadata": {},
   "outputs": [
    {
     "data": {
      "image/png": "[encoded data removed]",
      "text/plain": [
       "<Figure size 432x288 with 1 Axes>"
      ]
     },
     "metadata": {
      "needs_background": "light"
     },
     "output_type": "display_data"
    }
   ],
   "source": [
    "# accuracy curve\n",
    "pyplot.plot(history.history['loss'])\n",
    "pyplot.plot(history.history['val_loss'])\n",
    "pyplot.title('model loss learning curves')\n",
    "pyplot.ylabel('loss')\n",
    "pyplot.xlabel('epoch')\n",
    "pyplot.legend(['train', 'validation'], loc='upper left')\n",
    "pyplot.show()"
   ]
  },
  {
   "cell_type": "markdown",
   "id": "b5341c06",
   "metadata": {},
   "source": [
    "## Save model"
   ]
  },
  {
   "cell_type": "code",
   "execution_count": 9,
   "id": "2de42e1b",
   "metadata": {},
   "outputs": [],
   "source": [
    "model.save(\"model_vgg16_v1.h5\")"
   ]
  },
  {
   "cell_type": "code",
   "execution_count": 12,
   "id": "b0957408",
   "metadata": {},
   "outputs": [],
   "source": [
    "prediction = model.predict(testit) # predict probabilities"
   ]
  },
  {
   "cell_type": "code",
   "execution_count": 15,
   "id": "d18d67f8",
   "metadata": {},
   "outputs": [],
   "source": [
    "y_pred = [int(round(i[0])) for i in prediction] # converting probabilities to binary outputs"
   ]
  },
  {
   "cell_type": "markdown",
   "id": "5e5ba7c9",
   "metadata": {},
   "source": [
    "## Performance metrics"
   ]
  },
  {
   "cell_type": "code",
   "execution_count": 21,
   "id": "363898a4",
   "metadata": {},
   "outputs": [],
   "source": [
    "import itertools\n",
    "from sklearn.metrics import classification_report, confusion_matrix\n",
    "import numpy as np"
   ]
  },
  {
   "cell_type": "code",
   "execution_count": 22,
   "id": "5a80cf4b",
   "metadata": {},
   "outputs": [],
   "source": [
    "def plot_confusion_matrix(cm, classes,\n",
    "    normalize=False,\n",
    "    title='Confusion matrix',\n",
    "    cmap=pyplot.cm.Blues\n",
    "):\n",
    "    \"\"\"\n",
    "    This function prints and plots the confusion matrix.\n",
    "    Normalization can be applied by setting `normalize=True`.\n",
    "    \"\"\"\n",
    "    pyplot.imshow(cm, interpolation='nearest', cmap=cmap)\n",
    "    pyplot.title(title)\n",
    "    pyplot.colorbar()\n",
    "    tick_marks = np.arange(len(classes))\n",
    "    pyplot.xticks(tick_marks, classes, rotation=45)\n",
    "    pyplot.yticks(tick_marks, classes)\n",
    "    if normalize:\n",
    "        cm = cm.astype('float') / cm.sum(axis=1)[:, np.newaxis]\n",
    "        print(\"Normalized confusion matrix\")\n",
    "    else:\n",
    "        print('Confusion matrix, without normalization')\n",
    "    print(cm)\n",
    "    thresh = cm.max() / 2.\n",
    "    for i, j in itertools.product(range(cm.shape[0]), range(cm.shape[1])):\n",
    "        pyplot.text(j, i, \"{:0.2f}\".format(cm[i, j]),\n",
    "        horizontalalignment=\"center\",\n",
    "        color=\"white\" if cm[i, j] > thresh else \"black\")\n",
    "    pyplot.tight_layout()\n",
    "    pyplot.ylabel('True label')\n",
    "    pyplot.xlabel('Predicted label')"
   ]
  },
  {
   "cell_type": "code",
   "execution_count": 23,
   "id": "4baaeee3",
   "metadata": {},
   "outputs": [],
   "source": [
    "target_names = [\"fall armyworm\", \"healthy\"]"
   ]
  },
  {
   "cell_type": "code",
   "execution_count": 24,
   "id": "763a1874",
   "metadata": {},
   "outputs": [
    {
     "name": "stdout",
     "output_type": "stream",
     "text": [
      "Confusion Matrix\n",
      "[[344   5]\n",
      " [  6 343]]\n"
     ]
    }
   ],
   "source": [
    "print(\"Confusion Matrix\")\n",
    "conf_matrix = confusion_matrix(testit.classes, y_pred)\n",
    "print(conf_matrix)"
   ]
  },
  {
   "cell_type": "markdown",
   "id": "b4453379",
   "metadata": {},
   "source": [
    "### Normalized Confusion matrix"
   ]
  },
  {
   "cell_type": "code",
   "execution_count": 25,
   "id": "a2bd3588",
   "metadata": {},
   "outputs": [
    {
     "name": "stdout",
     "output_type": "stream",
     "text": [
      "Normalized confusion matrix\n",
      "[[0.98567335 0.01432665]\n",
      " [0.01719198 0.98280802]]\n"
     ]
    },
    {
     "data": {
      "text/plain": [
       "<function matplotlib.pyplot.show(close=None, block=None)>"
      ]
     },
     "execution_count": 25,
     "metadata": {},
     "output_type": "execute_result"
    },
    {
     "data": {
      "image/png": "[encoded data removed]",
      "text/plain": [
       "<Figure size 432x288 with 2 Axes>"
      ]
     },
     "metadata": {
      "needs_background": "light"
     },
     "output_type": "display_data"
    }
   ],
   "source": [
    "pyplot.figure(0)\n",
    "plot_confusion_matrix(conf_matrix, classes=target_names, normalize=True, title=\"Normalized Confusion Matrix\")\n",
    "pyplot.show"
   ]
  },
  {
   "cell_type": "markdown",
   "id": "231b3e45",
   "metadata": {},
   "source": [
    "### Confusion matrix without normalization"
   ]
  },
  {
   "cell_type": "code",
   "execution_count": 27,
   "id": "c8694795",
   "metadata": {},
   "outputs": [
    {
     "name": "stdout",
     "output_type": "stream",
     "text": [
      "Confusion matrix, without normalization\n",
      "[[344   5]\n",
      " [  6 343]]\n"
     ]
    },
    {
     "data": {
      "text/plain": [
       "<function matplotlib.pyplot.show(close=None, block=None)>"
      ]
     },
     "execution_count": 27,
     "metadata": {},
     "output_type": "execute_result"
    },
    {
     "data": {
      "image/png": "[encoded data removed]",
      "text/plain": [
       "<Figure size 432x288 with 2 Axes>"
      ]
     },
     "metadata": {
      "needs_background": "light"
     },
     "output_type": "display_data"
    }
   ],
   "source": [
    "pyplot.figure(1)\n",
    "plot_confusion_matrix(conf_matrix, classes=target_names, normalize=False, title=\"Confusion Matrix without Normalization\")\n",
    "pyplot.show"
   ]
  },
  {
   "cell_type": "markdown",
   "id": "66baadc5",
   "metadata": {},
   "source": [
    "### Classification report"
   ]
  },
  {
   "cell_type": "code",
   "execution_count": 29,
   "id": "1038cc3b",
   "metadata": {},
   "outputs": [
    {
     "name": "stdout",
     "output_type": "stream",
     "text": [
      "               precision    recall  f1-score   support\n",
      "\n",
      "fall armyworm       0.98      0.99      0.98       349\n",
      "      healthy       0.99      0.98      0.98       349\n",
      "\n",
      "     accuracy                           0.98       698\n",
      "    macro avg       0.98      0.98      0.98       698\n",
      " weighted avg       0.98      0.98      0.98       698\n",
      "\n"
     ]
    }
   ],
   "source": [
    "print(classification_report(testit.classes, y_pred, target_names=target_names))"
   ]
  },
  {
   "cell_type": "code",
   "execution_count": null,
   "id": "54e9f27b",
   "metadata": {},
   "outputs": [],
   "source": []
  }
 ],
 "metadata": {
  "kernelspec": {
   "display_name": "Python 3",
   "language": "python",
   "name": "python3"
  },
  "language_info": {
   "codemirror_mode": {
    "name": "ipython",
    "version": 3
   },
   "file_extension": ".py",
   "mimetype": "text/x-python",
   "name": "python",
   "nbconvert_exporter": "python",
   "pygments_lexer": "ipython3",
   "version": "3.8.8"
  }
 },
 "nbformat": 4,
 "nbformat_minor": 5
}
